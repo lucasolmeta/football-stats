{
 "cells": [
  {
   "cell_type": "code",
   "execution_count": null,
   "metadata": {},
   "outputs": [],
   "source": [
    "from flask import Flask, jsonify\n",
    "import pandas as pd\n",
    "import requests\n",
    "import os\n",
    "\n",
    "RAPIDAPI_KEY = os.getenv(\"RAPIDAPI_KEY\")\n",
    "\n",
    "app = Flask(__name__)\n",
    "\n",
    "if __name__ == '__main__':\n",
    "        app.run(host='0.0.0.0', port=int(os.environ.get('PORT', 5000)))\n",
    "\n",
    "@app.route('/search/<query>', methods=['GET'])\n",
    "def get_data(search_query):\n",
    "    url = \"https://api-football-v1.p.rapidapi.com/v3/fixtures\"\n",
    "\n",
    "    querystring = {\"date\":\"2024-10-27\"}\n",
    "\n",
    "    headers = {\n",
    "\t    \"x-rapidapi-key\": RAPIDAPI_KEY,\n",
    "\t    \"x-rapidapi-host\": \"api-football-v1.p.rapidapi.com\"    \n",
    "    }   \n",
    "\n",
    "    try:\n",
    "        response = requests.get(url, headers=headers, params=querystring)\n",
    "        response.raise_for_status()  \n",
    "        return jsonify(response.json())\n",
    "    except requests.exceptions.HTTPError as http_err:\n",
    "        return jsonify({\"error\": str(http_err)}), 500\n",
    "    except Exception as err:\n",
    "        return jsonify({\"error\": str(err)}), 500\n",
    "    \n",
    "def parse_query(query):\n",
    "    if \" \" in query:\n",
    "        find_last_word(query)\n",
    "        return \n",
    "\n",
    "def find_last_word(query):\n",
    "    for c in range(query.length):\n",
    "        if query[query.length - c] == \" \":\n",
    "            return query[query.length-c:]\n",
    "\n",
    "\n",
    "\n",
    "\n"
   ]
  }
 ],
 "metadata": {
  "language_info": {
   "name": "python"
  }
 },
 "nbformat": 4,
 "nbformat_minor": 2
}
